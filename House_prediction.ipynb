{
 "cells": [
  {
   "cell_type": "code",
   "execution_count": 12,
   "id": "b41a86a0-0078-42c2-8d6e-22ac29095630",
   "metadata": {},
   "outputs": [],
   "source": [
    "import pandas as pd\n",
    "import numpy as np\n",
    "from sklearn.model_selection import GridSearchCV\n",
    "from sklearn.preprocessing import StandardScaler, LabelEncoder\n",
    "from sklearn.ensemble import RandomForestRegressor\n",
    "import xgboost as xgb\n",
    "from lightgbm import LGBMRegressor\n",
    "from sklearn.metrics import mean_squared_error\n",
    "import matplotlib.pyplot as plt\n",
    "import seaborn as sns"
   ]
  },
  {
   "cell_type": "code",
   "execution_count": 3,
   "id": "34776187-8d1a-4ed0-a062-4d2844c4b54c",
   "metadata": {},
   "outputs": [],
   "source": [
    "df=pd.read_csv(\"Documents/house-prices-advanced-regression-techniques/train.csv\")"
   ]
  },
  {
   "cell_type": "code",
   "execution_count": 4,
   "id": "e28994b2-f14c-484b-aaf6-97a9a85f07f8",
   "metadata": {},
   "outputs": [
    {
     "data": {
      "text/plain": [
       "Id                 0\n",
       "MSSubClass         0\n",
       "MSZoning           0\n",
       "LotFrontage      259\n",
       "LotArea            0\n",
       "                ... \n",
       "MoSold             0\n",
       "YrSold             0\n",
       "SaleType           0\n",
       "SaleCondition      0\n",
       "SalePrice          0\n",
       "Length: 81, dtype: int64"
      ]
     },
     "execution_count": 4,
     "metadata": {},
     "output_type": "execute_result"
    }
   ],
   "source": [
    "df.isnull().sum()"
   ]
  },
  {
   "cell_type": "code",
   "execution_count": 5,
   "id": "434b5a1a-f0df-41d5-9bcc-4d620218bff0",
   "metadata": {},
   "outputs": [
    {
     "data": {
      "text/plain": [
       "Id                 int64\n",
       "MSSubClass         int64\n",
       "MSZoning          object\n",
       "LotFrontage      float64\n",
       "LotArea            int64\n",
       "                  ...   \n",
       "MoSold             int64\n",
       "YrSold             int64\n",
       "SaleType          object\n",
       "SaleCondition     object\n",
       "SalePrice          int64\n",
       "Length: 81, dtype: object"
      ]
     },
     "execution_count": 5,
     "metadata": {},
     "output_type": "execute_result"
    }
   ],
   "source": [
    "df.dtypes"
   ]
  },
  {
   "cell_type": "code",
   "execution_count": 6,
   "id": "cf044107-eb28-4ac1-bd11-6a6dcd338ab2",
   "metadata": {},
   "outputs": [
    {
     "data": {
      "text/plain": [
       "(1460, 81)"
      ]
     },
     "execution_count": 6,
     "metadata": {},
     "output_type": "execute_result"
    }
   ],
   "source": [
    "df.shape"
   ]
  },
  {
   "cell_type": "code",
   "execution_count": null,
   "id": "94d490ad-3346-4b21-b149-b5a2f0b557d6",
   "metadata": {},
   "outputs": [],
   "source": [
    "for column in df.columns:\n",
    "    if df[column].dtype == \"object\":\n",
    "        df[column].fillna(df[column].mode()[0], inplace=True)\n",
    "    else:\n",
    "        df[column].fillna(df[column].median(), inplace=True)"
   ]
  },
  {
   "cell_type": "code",
   "execution_count": 15,
   "id": "ce25cb72-50d2-4c6a-ba98-0069fbc1d32d",
   "metadata": {},
   "outputs": [
    {
     "data": {
      "text/plain": [
       "Id               0\n",
       "MSSubClass       0\n",
       "MSZoning         0\n",
       "LotFrontage      0\n",
       "LotArea          0\n",
       "                ..\n",
       "MoSold           0\n",
       "YrSold           0\n",
       "SaleType         0\n",
       "SaleCondition    0\n",
       "SalePrice        0\n",
       "Length: 81, dtype: int64"
      ]
     },
     "execution_count": 15,
     "metadata": {},
     "output_type": "execute_result"
    }
   ],
   "source": [
    "df.isnull().sum()"
   ]
  },
  {
   "cell_type": "code",
   "execution_count": 17,
   "id": "d041b652-13c1-42ba-a34c-40e67408e8b2",
   "metadata": {},
   "outputs": [],
   "source": [
    "le = LabelEncoder()\n",
    "for column in df.columns:\n",
    "    if df[column].dtype == \"object\":\n",
    "        df[column] = le.fit_transform(df[column])"
   ]
  },
  {
   "cell_type": "code",
   "execution_count": 25,
   "id": "7f2f170a-3e36-44b8-8bcc-4c24e57ec44c",
   "metadata": {},
   "outputs": [],
   "source": [
    "X=df.drop(['SalePrice', 'Id'], axis=1)\n",
    "Y=df['SalePrice']"
   ]
  },
  {
   "cell_type": "code",
   "execution_count": 26,
   "id": "bcf2ba53-1891-46f7-ac20-96c183d82164",
   "metadata": {},
   "outputs": [],
   "source": [
    "scaler = StandardScaler()\n",
    "X_train_scaled = scaler.fit_transform(X)"
   ]
  },
  {
   "cell_type": "code",
   "execution_count": 28,
   "id": "6af8725f-a1d2-47b0-b1ce-5ec9bce97d35",
   "metadata": {},
   "outputs": [],
   "source": [
    "Test=pd.read_csv(\"Documents/house-prices-advanced-regression-techniques/test.csv\")"
   ]
  },
  {
   "cell_type": "code",
   "execution_count": null,
   "id": "433cba91-2203-422c-9fc5-7acacb988694",
   "metadata": {},
   "outputs": [],
   "source": [
    "for column in Test.columns:\n",
    "    if Test[column].dtype == \"object\":\n",
    "        Test[column].fillna(Test[column].mode()[0], inplace=True)\n",
    "    else:\n",
    "        Test[column].fillna(Test[column].median(), inplace=True)"
   ]
  },
  {
   "cell_type": "code",
   "execution_count": 31,
   "id": "05d47571-4d29-4895-b0fd-2722e7819aec",
   "metadata": {},
   "outputs": [],
   "source": [
    "for column in Test.columns:\n",
    "    if Test[column].dtype == \"object\":\n",
    "        Test[column] = le.fit_transform(Test[column])"
   ]
  },
  {
   "cell_type": "code",
   "execution_count": 39,
   "id": "24a424dc-2c22-4da0-8b4b-fd57e7fbcd23",
   "metadata": {},
   "outputs": [],
   "source": [
    "#Test=Test.drop(['Id'],axis=1)\n",
    "test_scaled = scaler.fit_transform(Test)"
   ]
  },
  {
   "cell_type": "code",
   "execution_count": 52,
   "id": "84bd9a02-e070-4396-ab6c-7471f515d109",
   "metadata": {},
   "outputs": [],
   "source": [
    "rf_model = RandomForestRegressor(n_estimators=100, random_state=42)\n",
    "rf_model.fit(X_train_scaled,Y)\n",
    "y_pred_rf = rf_model.predict(test_scaled)"
   ]
  },
  {
   "cell_type": "code",
   "execution_count": 41,
   "id": "4af2f693-ff0c-473b-99b8-10262fb174ba",
   "metadata": {},
   "outputs": [
    {
     "data": {
      "text/plain": [
       "array([129443.01, 156868.5 , 183726.  , ..., 154992.5 , 114379.78,\n",
       "       234972.98])"
      ]
     },
     "execution_count": 41,
     "metadata": {},
     "output_type": "execute_result"
    }
   ],
   "source": [
    "y_pred_rf"
   ]
  },
  {
   "cell_type": "code",
   "execution_count": 53,
   "id": "c3b5b5e0-ce11-42b5-bde2-01b0b0ba9051",
   "metadata": {},
   "outputs": [],
   "source": [
    "data = pd.DataFrame(y_pred_rf, columns=['Values'])\n",
    "data.to_excel('submission1.xlsx', index=False, engine='openpyxl')"
   ]
  },
  {
   "cell_type": "code",
   "execution_count": 45,
   "id": "1316afe6-9c64-4c1c-bc60-ed98ff115e2d",
   "metadata": {},
   "outputs": [],
   "source": [
    "xgb_model = xgb.XGBRegressor(objective='reg:squarederror', n_estimators=100, random_state=42)\n",
    "xgb_model.fit(X_train_scaled, Y)\n",
    "y_pred_xgb = xgb_model.predict(test_scaled)"
   ]
  },
  {
   "cell_type": "code",
   "execution_count": 54,
   "id": "bbb691bf-cfcf-45cc-951f-3c00c2ba1ba5",
   "metadata": {},
   "outputs": [],
   "source": [
    "data = pd.DataFrame(y_pred_xgb, columns=['Values'])\n",
    "data.to_excel('submission2.xlsx', index=False, engine='openpyxl')"
   ]
  },
  {
   "cell_type": "code",
   "execution_count": 48,
   "id": "9f791670-0f0e-43b5-a793-f21a83365433",
   "metadata": {},
   "outputs": [
    {
     "data": {
      "text/plain": [
       "array([126515.75, 156770.9 , 184777.92, ..., 161087.16, 110287.62,\n",
       "       185525.86], dtype=float32)"
      ]
     },
     "execution_count": 48,
     "metadata": {},
     "output_type": "execute_result"
    }
   ],
   "source": [
    "y_pred_xgb"
   ]
  },
  {
   "cell_type": "code",
   "execution_count": null,
   "id": "f4cead99-d8a5-4875-916a-6018d4319e0d",
   "metadata": {},
   "outputs": [],
   "source": [
    "lgb_model = LGBMRegressor(n_estimators=100, random_state=42)\n",
    "lgb_model.fit(X_train_scaled,Y)\n",
    "y_pred_lgb = lgb_model.predict(test_scaled)"
   ]
  },
  {
   "cell_type": "code",
   "execution_count": 50,
   "id": "3fba056a-0a0c-4f02-9027-177ee301b0a9",
   "metadata": {},
   "outputs": [
    {
     "data": {
      "text/plain": [
       "array([128700.90162106, 155381.28509266, 180659.10578167, ...,\n",
       "       182759.35397445, 118304.43046746, 221782.56693322])"
      ]
     },
     "execution_count": 50,
     "metadata": {},
     "output_type": "execute_result"
    }
   ],
   "source": [
    "y_pred_lgb"
   ]
  },
  {
   "cell_type": "code",
   "execution_count": 55,
   "id": "362a88d3-36ca-41f1-a8c7-bd5d01150485",
   "metadata": {},
   "outputs": [],
   "source": [
    "data = pd.DataFrame(y_pred_lgb, columns=['Values'])\n",
    "data.to_excel('submission3.xlsx', index=False, engine='openpyxl')"
   ]
  }
 ],
 "metadata": {
  "kernelspec": {
   "display_name": "Python 3 (ipykernel)",
   "language": "python",
   "name": "python3"
  },
  "language_info": {
   "codemirror_mode": {
    "name": "ipython",
    "version": 3
   },
   "file_extension": ".py",
   "mimetype": "text/x-python",
   "name": "python",
   "nbconvert_exporter": "python",
   "pygments_lexer": "ipython3",
   "version": "3.10.14"
  }
 },
 "nbformat": 4,
 "nbformat_minor": 5
}
